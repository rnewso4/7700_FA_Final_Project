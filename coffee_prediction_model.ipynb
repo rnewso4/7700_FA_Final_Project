{
 "cells": [
  {
   "cell_type": "markdown",
   "id": "b9e5fa9c-c641-4083-94cb-98c49574d0d7",
   "metadata": {},
   "source": [
    "<h2>Load and Prepare Data</h2>\n",
    "\n",
    "We're also going to visualize the data just to see what's going on and how everything correlates with our y values"
   ]
  },
  {
   "cell_type": "code",
   "execution_count": 1,
   "id": "a66d5398-cfc9-466d-b253-647e4f9ee778",
   "metadata": {},
   "outputs": [],
   "source": [
    "import numpy as np\n",
    "import pandas as pd\n",
    "import matplotlib.pyplot as plt\n",
    "import seaborn as sns\n",
    "\n",
    "data = pd.read_csv(\"./coffee_shop_revenue_original.csv\")\n",
    "\n",
    "y = data[\"Daily_Revenue\"]\n",
    "\n",
    "X = data.drop(\"Daily_Revenue\", axis=1)\n",
    "\n",
    "# Combine features and target into one DataFrame for easy filtering\n",
    "data = pd.concat([X, y], axis=1)\n",
    "\n",
    "# Drop rows where the target variable is NaN\n",
    "cleaned_data = data.dropna()\n",
    "\n",
    "# Split the data back into features (X) and target (y)\n",
    "X = cleaned_data.iloc[:, :-1]\n",
    "y = cleaned_data.iloc[:, -1]\n",
    "\n",
    "# Display the number of rows removed\n",
    "rows_removed = len(data) - len(cleaned_data)"
   ]
  },
  {
   "cell_type": "code",
   "execution_count": 2,
   "id": "a5b5457d-7eb7-4a58-87ea-4ea2a80571d3",
   "metadata": {},
   "outputs": [],
   "source": [
    "# sns.pairplot(data, kind='scatter', plot_kws={'alpha': 0.4})\n",
    "\n",
    "# sns.lmplot(x=\"Average_Order_Value\", y=\"Daily_Revenue\", data = data, scatter_kws={'alpha': 0.1})"
   ]
  },
  {
   "cell_type": "markdown",
   "id": "4a362a1b-79b7-4187-a9f9-34f9d5fa77a3",
   "metadata": {},
   "source": [
    "<h2>Splitting data into training and test sets</h2>"
   ]
  },
  {
   "cell_type": "code",
   "execution_count": 3,
   "id": "21a21bbc-54be-4ec0-acdc-258223375ca1",
   "metadata": {},
   "outputs": [],
   "source": [
    "from sklearn.model_selection import train_test_split\n",
    "\n",
    "# Do a 70/30 split (e.g., 70% train, 30% other)\n",
    "X_train, X_leftover, y_train, y_leftover = train_test_split(\n",
    "    X, y,\n",
    "    test_size=0.3,\n",
    "    random_state=42,    # for reproducibility\n",
    "    shuffle=True,       # whether to shuffle the data before splitting\n",
    ")\n",
    "\n",
    "# Split the remaining 30% into validation/testing (15%/15%)\n",
    "X_val, X_test, y_val, y_test = train_test_split(\n",
    "    X_leftover, y_leftover,\n",
    "    test_size=0.5,\n",
    "    random_state=42,\n",
    "    shuffle=True,\n",
    ")\n",
    "\n",
    "# Compute statistics for X (features)\n",
    "X_mean = X_train.mean(axis=0)  # Mean of each feature\n",
    "X_std = X_train.std(axis=0)    # Standard deviation of each feature\n",
    "\n",
    "# Standardize X\n",
    "X_train = (X_train - X_mean) / X_std\n",
    "X_val = (X_val - X_mean) / X_std\n",
    "X_test = (X_test - X_mean) / X_std\n",
    "\n",
    "# Compute statistics for y (targets)\n",
    "y_mean = y_train.mean()  # Mean of target\n",
    "y_std = y_train.std()    # Standard deviation of target\n",
    "\n",
    "# Standardize y\n",
    "y_train = (y_train - y_mean) / y_std\n",
    "y_val = (y_val - y_mean) / y_std\n",
    "y_test = (y_test - y_mean) / y_std"
   ]
  },
  {
   "cell_type": "markdown",
   "id": "54ff5448-818f-425a-91a1-0b79d6b6551f",
   "metadata": {},
   "source": [
    "<h2>Train model</h2>"
   ]
  },
  {
   "cell_type": "code",
   "execution_count": 4,
   "id": "6a958c5b-6d82-4071-a920-aee4328ae38e",
   "metadata": {},
   "outputs": [
    {
     "name": "stdout",
     "output_type": "stream",
     "text": [
      "Epoch: 0 | Training loss: 0.7985436916351318 | Validation loss: 0.6925200819969177\n",
      "Epoch: 25 | Training loss: 0.2621588408946991 | Validation loss: 0.2422499656677246\n",
      "Epoch: 50 | Training loss: 0.07864754647016525 | Validation loss: 0.07589533925056458\n",
      "Epoch: 75 | Training loss: 0.05901673063635826 | Validation loss: 0.058505330234766006\n",
      "Epoch: 100 | Training loss: 0.05706306919455528 | Validation loss: 0.05741886794567108\n"
     ]
    }
   ],
   "source": [
    "from main import *\n",
    "model = LinearRegressionModel(6, 1, 4)\n",
    "\n",
    "epoch_count, loss_values, test_loss_values = model.fit(model, \n",
    "                                                       torch.tensor(X_train.values, dtype=torch.float), \n",
    "                                                       torch.tensor(y_train.values, dtype=torch.float), \n",
    "                                                       125, \n",
    "                                                       torch.tensor(X_val.values, dtype=torch.float), \n",
    "                                                       torch.tensor(y_val.values, dtype=torch.float))"
   ]
  },
  {
   "cell_type": "code",
   "execution_count": 5,
   "id": "50562c55-d983-4dc5-bee3-ab5933f46df3",
   "metadata": {},
   "outputs": [
    {
     "data": {
      "image/png": "[encoded data removed]",
      "text/plain": [
       "<Figure size 640x480 with 1 Axes>"
      ]
     },
     "metadata": {},
     "output_type": "display_data"
    }
   ],
   "source": [
    "plot_loss(epoch_count, loss_values, test_loss_values, \"Validation Loss\")"
   ]
  },
  {
   "cell_type": "markdown",
   "id": "4ec6d62e-888b-4a24-8824-e7ed1bdd4b04",
   "metadata": {},
   "source": [
    "<h2>Save model</h2>"
   ]
  },
  {
   "cell_type": "code",
   "execution_count": 6,
   "id": "fd0af390-ab85-4acb-ae49-e406cd0bda34",
   "metadata": {},
   "outputs": [],
   "source": [
    "# # Saving our PyTorch model\n",
    "# from pathlib import Path\n",
    "\n",
    "# # 1. Create model's directory\n",
    "# MODEL_PATH = Path(\"models\")\n",
    "# MODEL_PATH.mkdir(parents=True, exist_ok=True)\n",
    "\n",
    "# # 2. Create model save path\n",
    "# MODEL_NAME = \"coffee_prediction_model.pth\"\n",
    "# MODEL_SAVE_PATH = MODEL_PATH / MODEL_NAME\n",
    "\n",
    "# # 3. Save the model state dict\n",
    "# torch.save(obj=model.state_dict(),f=MODEL_SAVE_PATH)"
   ]
  },
  {
   "cell_type": "markdown",
   "id": "48c3978b-9101-40ca-aef0-3d2a9308ed66",
   "metadata": {},
   "source": [
    "<h2>Evaluate the Model</h2>"
   ]
  },
  {
   "cell_type": "code",
   "execution_count": 7,
   "id": "566a10b7-fcda-4bba-849a-e15b2a214cf9",
   "metadata": {},
   "outputs": [
    {
     "name": "stdout",
     "output_type": "stream",
     "text": [
      "Loss value for testing data: 0.054121825844049454\n"
     ]
    }
   ],
   "source": [
    "loss_val = evaluate(model, torch.tensor(X_test.values, dtype=torch.float), torch.tensor(y_test.values, dtype=torch.float))\n",
    "print(f\"Loss value for testing data: {loss_val}\")"
   ]
  },
  {
   "cell_type": "markdown",
   "id": "70c7a432-1bb7-42a8-8551-33ca15f5e617",
   "metadata": {},
   "source": [
    "<h2>Code to generate the dollar amount</h2>"
   ]
  },
  {
   "cell_type": "code",
   "execution_count": 8,
   "id": "37a488b3-e918-4f0a-8b81-3574efff53e3",
   "metadata": {},
   "outputs": [
    {
     "name": "stdout",
     "output_type": "stream",
     "text": [
      "[1754.79, 2949.06, 1982.82, 1559.99, 1049.02, 1377.64, 855.54, 1868.32, 2497.62, 3079.84]\n",
      "[2133.75, 2606.22, 1534.74, 1572.76, 947.08, 1252.04, 571.57, 1712.21, 2695.46, 3032.74]\n"
     ]
    }
   ],
   "source": [
    "# I need to print out a column of the test printed out in a table compared to the true y values\n",
    "X_test_ten = X_test.head(10)\n",
    "X_test_ten = X_test_ten.values.tolist()\n",
    "y_results = []\n",
    "\n",
    "y_test_ten = y_test.head(10)\n",
    "y_test_ten = y_test_ten.values.tolist()\n",
    "y_true = []\n",
    "\n",
    "for x_test in X_test_ten:\n",
    "    y_results.append(generate(model, torch.tensor(x_test, dtype=torch.float), X_mean, X_std, y_mean, y_std, True))\n",
    "\n",
    "for y_tes in y_test_ten:\n",
    "    y_true.append(round(y_tes * y_std + y_mean, 2))\n",
    "\n",
    "\n",
    "print(y_results)\n",
    "print(y_true)"
   ]
  },
  {
   "cell_type": "code",
   "execution_count": null,
   "id": "833fe128-d27f-4af9-b9a1-2c4a310df070",
   "metadata": {},
   "outputs": [],
   "source": []
  }
 ],
 "metadata": {
  "kernelspec": {
   "display_name": "Python 3 (ipykernel)",
   "language": "python",
   "name": "python3"
  },
  "language_info": {
   "codemirror_mode": {
    "name": "ipython",
    "version": 3
   },
   "file_extension": ".py",
   "mimetype": "text/x-python",
   "name": "python",
   "nbconvert_exporter": "python",
   "pygments_lexer": "ipython3",
   "version": "3.12.7"
  }
 },
 "nbformat": 4,
 "nbformat_minor": 5
}
